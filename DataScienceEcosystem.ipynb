{
 "cells": [
  {
   "metadata": {},
   "cell_type": "markdown",
   "source": "# Data Science Tools and Ecosystem",
   "id": "6a1b8b798a5800"
  },
  {
   "metadata": {},
   "cell_type": "markdown",
   "source": "#### In this notebook, Data Science Tools and Ecosystem are summarized.",
   "id": "b2553c86c7b83953"
  },
  {
   "metadata": {},
   "cell_type": "markdown",
   "source": [
    "#### Some of the popular languages that Data Scientists use are:\n",
    "1. Python\n",
    "2. R\n",
    "3. Java\n",
    "4. Scala\n",
    "5. Julia"
   ],
   "id": "e50def358d972241"
  },
  {
   "metadata": {},
   "cell_type": "markdown",
   "source": [
    "#### Some of the common Libraries used by Data Scientists include:\n",
    "1. Scikit-Learn\n",
    "2. Pandas\n",
    "3. MatplotLib\n",
    "4. Numpy\n",
    "5. GGPlot2"
   ],
   "id": "3f363d1aa367b68f"
  },
  {
   "metadata": {},
   "cell_type": "markdown",
   "source": [
    "| Data Science Tools |\n",
    "|--------------------|\n",
    "| Pandas             |\n",
    "| Scikit-Learn       |\n",
    "| GGPlot2            |\n",
    "| Seaborn            |"
   ],
   "id": "f54cba7eaf1fe6c2"
  },
  {
   "metadata": {},
   "cell_type": "markdown",
   "source": "### Below are a few examples of evaluating arithmetic expressions in Python",
   "id": "d61da09e37daf799"
  },
  {
   "metadata": {
    "ExecuteTime": {
     "end_time": "2024-06-03T20:55:46.220858Z",
     "start_time": "2024-06-03T20:55:46.207126Z"
    }
   },
   "cell_type": "code",
   "source": [
    "#This a simple arithmetic expression to mutiply then add integers\n",
    "(3*4)+5"
   ],
   "id": "797ca158ca23fe73",
   "outputs": [
    {
     "data": {
      "text/plain": [
       "17"
      ]
     },
     "execution_count": 2,
     "metadata": {},
     "output_type": "execute_result"
    }
   ],
   "execution_count": 2
  },
  {
   "metadata": {
    "ExecuteTime": {
     "end_time": "2024-06-03T21:01:03.555046Z",
     "start_time": "2024-06-03T21:01:03.547563Z"
    }
   },
   "cell_type": "code",
   "source": [
    "#This will convert minutes to hours\n",
    "200/60"
   ],
   "id": "a18bb85cfb59fcb8",
   "outputs": [
    {
     "data": {
      "text/plain": [
       "3.3333333333333335"
      ]
     },
     "execution_count": 4,
     "metadata": {},
     "output_type": "execute_result"
    }
   ],
   "execution_count": 4
  },
  {
   "metadata": {},
   "cell_type": "markdown",
   "source": [
    "Objectives:\n",
    "- List Languages often used for Data Science \n",
    "- List Data Science Tools\n",
    "- Evaluate some Arithmetic Expressions in a Jupyter Notebook"
   ],
   "id": "c4238e43f1b66dae"
  },
  {
   "metadata": {},
   "cell_type": "markdown",
   "source": [
    "## Author\n",
    "Arpit Bajpai"
   ],
   "id": "d1cad4e78a8691f1"
  },
  {
   "metadata": {},
   "cell_type": "code",
   "outputs": [],
   "execution_count": null,
   "source": "",
   "id": "ccca30dd7999b75f"
  }
 ],
 "metadata": {
  "kernelspec": {
   "display_name": "Python 3",
   "language": "python",
   "name": "python3"
  },
  "language_info": {
   "codemirror_mode": {
    "name": "ipython",
    "version": 2
   },
   "file_extension": ".py",
   "mimetype": "text/x-python",
   "name": "python",
   "nbconvert_exporter": "python",
   "pygments_lexer": "ipython2",
   "version": "2.7.6"
  }
 },
 "nbformat": 4,
 "nbformat_minor": 5
}
